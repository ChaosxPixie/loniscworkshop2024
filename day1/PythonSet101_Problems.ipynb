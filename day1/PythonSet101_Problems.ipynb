{
  "cells": [
    {
      "cell_type": "markdown",
      "metadata": {
        "colab_type": "text",
        "id": "view-in-github"
      },
      "source": [
        "<a href=\"https://colab.research.google.com/github/lsuhpchelp/loniscworkshop2024/blob/main/day1/PythonSet101_Problems.ipynb\" target=\"_parent\"><img src=\"https://colab.research.google.com/assets/colab-badge.svg\" alt=\"Open In Colab\"/></a>"
      ]
    },
    {
      "cell_type": "markdown",
      "metadata": {
        "id": "iQAhdLscSWh0"
      },
      "source": [
        "Practice Problem 1.1 - The print function\n",
        "---\n",
        "Use the print function to display your name to the console. Don't forget to put quotes around your name within the brackets."
      ]
    },
    {
      "cell_type": "code",
      "execution_count": 1,
      "metadata": {
        "colab": {
          "base_uri": "https://localhost:8080/"
        },
        "id": "iTY4_OuTSGbg",
        "outputId": "cb65bdb2-abc8-4801-ee9a-0e736ee4cda9"
      },
      "outputs": [
        {
          "name": "stdout",
          "output_type": "stream",
          "text": [
            "Malana\n"
          ]
        }
      ],
      "source": [
        "[ ] # Create a print function on the next line and print your name.\n",
        "print(\"Malana\")"
      ]
    },
    {
      "cell_type": "markdown",
      "metadata": {
        "id": "7ajB1lhoTANM"
      },
      "source": [
        "Practice Problem 1.2 - Comments\n",
        "---\n",
        "Create comments above each print statement in the following code."
      ]
    },
    {
      "cell_type": "code",
      "execution_count": 2,
      "metadata": {
        "id": "LQ9XPomhTm1n"
      },
      "outputs": [
        {
          "name": "stdout",
          "output_type": "stream",
          "text": [
            "Creating important text\n",
            "Saving document\n",
            "Executing code\n"
          ]
        }
      ],
      "source": [
        "[ ] # Create comments above each print statement.\n",
        "#this is how\n",
        "print(\"Creating important text\")\n",
        "\n",
        "#we write\n",
        "print(\"Saving document\")\n",
        "\n",
        "#comments in python\n",
        "print(\"Executing code\")"
      ]
    },
    {
      "cell_type": "markdown",
      "metadata": {
        "id": "WAYDkQTMU1ab"
      },
      "source": [
        "Practice Problem 1.3 - Variables\n",
        "---\n",
        "Comment out whichever variables have an illegal declaration."
      ]
    },
    {
      "cell_type": "code",
      "execution_count": 3,
      "metadata": {
        "id": "VY_3KIJRVT3U"
      },
      "outputs": [],
      "source": [
        "[ ] # Comment out the variables that have an illegal declaration.\n",
        "\n",
        "#current year = 2024\n",
        "_currentMonth = \"June\"\n",
        "#*country = \"USA\"\n",
        "value_of_pi = 3.14159\n",
        "#4Quarts = \"Gallon\"\n",
        "SUMMER2024 = True"
      ]
    },
    {
      "cell_type": "markdown",
      "metadata": {
        "id": "5XafClffXdPB"
      },
      "source": [
        "Practice Problem 1.3 - Variables\n",
        "---\n",
        "Determine which case the following variables are using, by writing either **C** (Camel Case), **P** (Pascal Case) or **S** (Snake Case) above each variable declaration."
      ]
    },
    {
      "cell_type": "code",
      "execution_count": 4,
      "metadata": {
        "id": "7Booa36-Yb0X"
      },
      "outputs": [],
      "source": [
        "[ ] # Write above each variable declaration, which case is used, by writing out, \"C\", \"P\" or \"S\".\n",
        "\n",
        "#S\n",
        "GracefulGoat = \"Billy\"\n",
        "\n",
        "#C\n",
        "successfulSoup = \"Chicken Noodle\"\n",
        "\n",
        "#S\n",
        "WhimsyWave = True\n",
        "\n",
        "#P\n",
        "sulfuric_stereo = 123456\n",
        "\n",
        "#C\n",
        "editorEmpire = \"Roman\"\n",
        "\n",
        "#P\n",
        "spectacular_shock = 1000000\n",
        "\n",
        "#S\n",
        "NeedNotebook = True"
      ]
    },
    {
      "cell_type": "markdown",
      "metadata": {
        "id": "oMwLgMYVbhPc"
      },
      "source": [
        "Practice Problem 1.4 - Datatypes\n",
        "---\n",
        "Determine which datatype each variable has upon its declaration."
      ]
    },
    {
      "cell_type": "code",
      "execution_count": 24,
      "metadata": {
        "id": "epqaiFT4f1-G"
      },
      "outputs": [
        {
          "name": "stdout",
          "output_type": "stream",
          "text": [
            "{<class 'list'>: 'list', <class 'bool'>: 'bool', <class 'str'>: 'string', <class 'int'>: 'int', <class 'dict'>: 'dict', <class 'float'>: 'double', <class 'set'>: 'set', <class 'tuple'>: 'tuple'}\n"
          ]
        }
      ],
      "source": [
        "[ ] # Write above each variable declaration, the datatype that was assigned to the variable.\n",
        "#\n",
        "var_1 = [2, 4, 6, 8, 10]\n",
        "#\n",
        "var_2 = True\n",
        "#\n",
        "var_3 = \"Hello\"\n",
        "#\n",
        "var_4 = 10\n",
        "#\n",
        "var_5 = {\"Country\":\"USA\", \"State\":\"Louisiana\", \"City\":\"Baton Rouge\"}\n",
        "#\n",
        "var_6 = 1.618\n",
        "#\n",
        "var_7 = {\"Apple\", \"Banana\", \"Cherry\"}\n",
        "#\n",
        "var_8 = (1, 2, 3, 5, 8, 13)\n",
        "\n",
        "checkThisDict = {type(var_1):\"list\", type(var_2): \"bool\", type(var_3): \"string\", type(var_4):\"int\", type(var_5):\"dict\", type(var_6):\"double\", type(var_7):\"set\", type(var_8):\"tuple\"}\n",
        "print(checkThisDict)"
      ]
    },
    {
      "cell_type": "markdown",
      "metadata": {
        "id": "FKmBkMz4nubV"
      },
      "source": [
        "Practice Problem 1.5 - Literals\n",
        "---\n",
        "Provide a valid literal for each variable declaration."
      ]
    },
    {
      "cell_type": "code",
      "execution_count": 43,
      "metadata": {
        "id": "Q7mgvIVjoJmN"
      },
      "outputs": [
        {
          "name": "stdout",
          "output_type": "stream",
          "text": [
            "{'int_var': <class 'int'>, 'float_var': <class 'float'>, 'string_var': <class 'str'>, 'list_var': <class 'list'>, 'tuple_var': <class 'tuple'>, 'dict_var': <class 'dict'>, 'set_var': <class 'set'>}\n"
          ]
        }
      ],
      "source": [
        "[ ] # Write a valid literal for each variable.\n",
        "\n",
        "int_var = 32\n",
        "\n",
        "float_var = 32.32\n",
        "\n",
        "string_var = \"Goodbye\"\n",
        "\n",
        "list_var = [\"cat\", \"dog\", \"mouse\", \"goat\"]\n",
        "\n",
        "tuple_var = (\"tuple\",\"can\",\"have\",\"more\",\"than\",\"three\")\n",
        "\n",
        "dict_var = {\"animal\": \"cat\", \"name\": \"scarey terry\", \"age\":\"300\"}\n",
        "\n",
        "set_var = {\"this\",\"set\",\"3\",\"5.3\",\"can\",\"have\",\"z\",\"numbers\",\"characters\",\"anything\",\"probably\"}\n",
        "\n",
        "anotherDict = {\"int_var\":type(int_var), \"float_var\":type(float_var), \"string_var\":type(string_var), \n",
        "               \"list_var\":type(list_var), \"tuple_var\":type(tuple_var), \"dict_var\":type(dict_var), \"set_var\":type(set_var)}\n",
        "print(anotherDict)"
      ]
    },
    {
      "cell_type": "markdown",
      "metadata": {
        "id": "hV4mLGPGpd89"
      },
      "source": [
        "Practice Problem 1.6 - Numbers\n",
        "---\n",
        "Determine which base the following variables are using, by writing either **B** (Binary), **O** (Octal) or **H** (Hexadecimal) above each variable declaration."
      ]
    },
    {
      "cell_type": "code",
      "execution_count": 52,
      "metadata": {
        "id": "y8kgBL_3rd4K"
      },
      "outputs": [
        {
          "name": "stdout",
          "output_type": "stream",
          "text": [
            "21 1497 619682 17 1530 19345 2282689\n"
          ]
        }
      ],
      "source": [
        "[ ] # Write above each variable declaration, which base is used, by writing out, \"B\", \"O\" or \"H\".\n",
        "\n",
        "#B\n",
        "var_1 = 0b10101\n",
        "\n",
        "#0\n",
        "var_2 = 0o02731\n",
        "\n",
        "#H\n",
        "var_3 = 0x974A2\n",
        "\n",
        "#B\n",
        "var_4 = 0b10001\n",
        "\n",
        "#H\n",
        "var_5 = 0x005FA\n",
        "\n",
        "#O\n",
        "var_6 = 0o45621\n",
        "\n",
        "#H\n",
        "var_7 = 0x22D4C1\n",
        "\n",
        "print(var_1,var_2,var_3,var_4,var_5,var_6,var_7)"
      ]
    },
    {
      "cell_type": "markdown",
      "metadata": {
        "id": "J3ogT4JPuDri"
      },
      "source": [
        "Practice Problem 1.7 - Casting\n",
        "---\n",
        "Determine what datatype every variable will be after its declaration."
      ]
    },
    {
      "cell_type": "code",
      "execution_count": null,
      "metadata": {
        "id": "jg8wqs7yuY2i"
      },
      "outputs": [],
      "source": [
        "[ ] # Write above each statement, the datatype of the variable after its declaration.\n",
        "\n",
        "#\n",
        "var_1 = str(8324)\n",
        "\n",
        "#\n",
        "var_2 = int(float(99.99))\n",
        "\n",
        "#\n",
        "var_3 = complex(int(42.5) + 13)\n",
        "\n",
        "#\n",
        "var_4 = 70 + 0.9"
      ]
    },
    {
      "cell_type": "markdown",
      "metadata": {
        "id": "pK6Grklxum3w"
      },
      "source": [
        "Practice Problem 1.8 - Booleans\n",
        "---\n",
        "Determine what datatype every variable will be after its declaration. (Continued)"
      ]
    },
    {
      "cell_type": "code",
      "execution_count": 55,
      "metadata": {
        "id": "axIt3G_9wBx1"
      },
      "outputs": [
        {
          "name": "stdout",
          "output_type": "stream",
          "text": [
            "{'int': <class 'int'>, 'float': <class 'float'>, 'bool': <class 'bool'>}\n"
          ]
        }
      ],
      "source": [
        "[ ] # Write above each statement, the datatype of the variable after its declaration.\n",
        "\n",
        "#\n",
        "var_1 = int(True)\n",
        "\n",
        "#\n",
        "var_2 = float(False)\n",
        "\n",
        "#\n",
        "var_3 = bool(int(7.4) - int(\"6\"))\n",
        "\n",
        "dataTypeDict = {\"int\":type(var_1), \"float\":type(var_2), \"bool\":type(var_3)}\n",
        "print(dataTypeDict)"
      ]
    },
    {
      "cell_type": "markdown",
      "metadata": {
        "id": "J5i6mKvNwL6g"
      },
      "source": [
        "Practice Problem 1.9 - Strings\n",
        "---\n",
        "Comment out whichever strings have an illegal declaration."
      ]
    },
    {
      "cell_type": "code",
      "execution_count": 56,
      "metadata": {
        "id": "pbrUf3Ahwg2Y"
      },
      "outputs": [],
      "source": [
        "[ ] # Comment out the strings that have an illegal declaration.\n",
        "\n",
        "var_1 = \"Hello World!\"\n",
        "\n",
        "var_2 = 'Hello World!'\n",
        "\n",
        "var_3 = \"It's a beautiful day!\"\n",
        "\n",
        "#var_4 = 'It's a beautiful day!'\n",
        "\n",
        "#var_5 = \"The captial of Romania is \"Bucharest\".\"\n",
        "\n",
        "var_6 = 'The captial of Romania is \"Bucharest\".'\n",
        "\n",
        "var_7 = \"\"\"The quick brown fox jumps over the lazy dog.\"\"\"\n",
        "\n",
        "var_8 = '''The quick brown fox jumps over the lazy dog.'''"
      ]
    },
    {
      "cell_type": "markdown",
      "metadata": {
        "id": "_vmxDF99xULR"
      },
      "source": [
        "Practice Problem 1.9 - Strings\n",
        "---\n",
        "For each statement, use indexing or slicing to get the specified range of characters that's required."
      ]
    },
    {
      "cell_type": "code",
      "execution_count": 88,
      "metadata": {
        "id": "A5cDhbyYxrFd"
      },
      "outputs": [
        {
          "name": "stdout",
          "output_type": "stream",
          "text": [
            "l\n",
            "i\n",
            "x\n",
            "Mickey \n",
            "Bugs\n"
          ]
        }
      ],
      "source": [
        "[ ] # Use indexing or slicing to get the desired character(s) from each variable.\n",
        "\n",
        "# Retrieve the character at index 4\n",
        "var_1 = \"Little Red Riding Hood\"\n",
        "\n",
        "print(var_1[4:5])  \n",
        "\n",
        "# Use indexing to retrieve the letter 'i'\n",
        "var_2 = \"Homer Simpson\"\n",
        "\n",
        "print(var_2[7:8])\n",
        "\n",
        "# Use a negative index to retrieve the letter 'X'\n",
        "var_3 = \"Asterix\"\n",
        "\n",
        "print(var_3[-1:7])\n",
        "\n",
        "# Use slicing to print the following statement: \"Mickey\"\n",
        "var_4 = \"Mickey Mouse\"\n",
        "\n",
        "print(var_4[0:7])\n",
        "\n",
        "# Use negative slicing to print the following statement: \"Bugs\"\n",
        "var_5 = \"Bugs Bunny\"\n",
        "\n",
        "print(var_5[-10:-6])"
      ]
    },
    {
      "cell_type": "markdown",
      "metadata": {
        "id": "KJtNjqbi0MEE"
      },
      "source": [
        "Practice Problem 1.9 - Strings\n",
        "---\n",
        "For each statement, determine the nessecary method to use."
      ]
    },
    {
      "cell_type": "code",
      "execution_count": null,
      "metadata": {
        "id": "HDsXNO0I1Its"
      },
      "outputs": [],
      "source": [
        "[ ] # Use the specified method for each statement.\n",
        "\n",
        "# Use the method that removes all the white spaces\n",
        "var_1 = \"It's a beautiful day!      \"\n",
        "\n",
        "print(var_1)\n",
        "\n",
        "# Use the method that capitalizes all of the characters\n",
        "var_2 = \"very important announcement.\"\n",
        "\n",
        "print(var_2)\n",
        "\n",
        "# Use the method that splits the string in two, with the comma as the seperator\n",
        "var_3 = \"Then, it happened.\"\n",
        "\n",
        "print(var_3)\n",
        "\n",
        "# Use the method to replace the word often, with the word rarely\n",
        "var_4 = \"Do you often visit this place?\"\n",
        "\n",
        "print(var_4)"
      ]
    },
    {
      "cell_type": "markdown",
      "metadata": {
        "id": "9gqJACv43NSu"
      },
      "source": [
        "Practice Problem 1.9 - Strings\n",
        "---\n",
        "Using string concatenation and string muliplication, create the desired strings."
      ]
    },
    {
      "cell_type": "code",
      "execution_count": 93,
      "metadata": {
        "id": "_fBIXGWo3hiJ"
      },
      "outputs": [
        {
          "name": "stdout",
          "output_type": "stream",
          "text": [
            "Hello there.\n",
            "I think,therefore I am.\n",
            ":) :) :) ._. ._. ._. ._. \n"
          ]
        }
      ],
      "source": [
        "[ ] # Print the specified string, without creating any new variables.\n",
        "\n",
        "# Using string concatenation, print the following string, \"Hello there.\"\n",
        "string_1 = \"Hello \"\n",
        "string_2 = \"there.\"\n",
        "\n",
        "print(string_1 + string_2)\n",
        "\n",
        "# Using string concatenation, print the following string, \"I think, therefore I am.\"\n",
        "string_3 = \"I think\"\n",
        "string_4 = \"therefore I am\"\n",
        "\n",
        "print(string_3 + \",\" + string_4 + \".\")\n",
        "\n",
        "# Using string concatenation and multiplication, print the following string \":) :) :) ._. ._. ._. ._. \"\n",
        "string_5 = \":) \"\n",
        "string_6 = \"._. \"\n",
        "\n",
        "print(string_5*3 + string_6*4)\n"
      ]
    },
    {
      "cell_type": "markdown",
      "metadata": {
        "id": "j89xK-rE_KPP"
      },
      "source": [
        "Practice Problem 2.1 - Arithmetic Operators\n",
        "---\n",
        "Use the nessecary arithmetic operator to achieve the intended result."
      ]
    },
    {
      "cell_type": "code",
      "execution_count": 103,
      "metadata": {
        "id": "xB58WFiRBqQi"
      },
      "outputs": [
        {
          "name": "stdout",
          "output_type": "stream",
          "text": [
            "15\n",
            "24\n",
            "72\n",
            "5\n",
            "2.0\n",
            "64\n",
            "1\n"
          ]
        }
      ],
      "source": [
        "[ ] # In each print statement, use the correct arithmetic operator to achieve the desired result, without creating any new variables.\n",
        "\n",
        "# Print 15\n",
        "int_1 = 12\n",
        "int_2 = 3\n",
        "\n",
        "print(int_1 + int_2)\n",
        "\n",
        "# Print 24\n",
        "int_3 = 29\n",
        "int_4 = 5\n",
        "\n",
        "print(int_3 - int_4)\n",
        "\n",
        "# Print 72\n",
        "int_5 = 9\n",
        "int_6 = 8\n",
        "\n",
        "print(int_5 * int_6)\n",
        "\n",
        "# Print 5\n",
        "int_7 = 11\n",
        "int_8 = 2\n",
        "\n",
        "print(int_7 // int_8)\n",
        "\n",
        "# Print 2.0\n",
        "int_9 = 30\n",
        "int_10 = 15\n",
        "\n",
        "print(int_9 / int_10)\n",
        "\n",
        "# Print 64\n",
        "int_10 = 2\n",
        "int_11 = 6\n",
        "\n",
        "print(int_10**int_11)\n",
        "\n",
        "# Print 1\n",
        "int_12 = 13\n",
        "int_13 = 4\n",
        "\n",
        "print(int_12%int_13)\n"
      ]
    },
    {
      "cell_type": "markdown",
      "metadata": {
        "id": "knHs149HKlZ9"
      },
      "source": [
        "Practice Problem 2.1 - Arithmetic Assignment Operators\n",
        "---\n",
        "Use the nessecary arithmetic assignment operator to achieve the intended result."
      ]
    },
    {
      "cell_type": "code",
      "execution_count": 111,
      "metadata": {
        "id": "G7ckHZfBK1pP"
      },
      "outputs": [
        {
          "ename": "SyntaxError",
          "evalue": "invalid syntax (2665898890.py, line 6)",
          "output_type": "error",
          "traceback": [
            "\u001b[1;36m  Cell \u001b[1;32mIn[111], line 6\u001b[1;36m\u001b[0m\n\u001b[1;33m    print(int_1 += 6)\u001b[0m\n\u001b[1;37m                ^\u001b[0m\n\u001b[1;31mSyntaxError\u001b[0m\u001b[1;31m:\u001b[0m invalid syntax\n"
          ]
        }
      ],
      "source": [
        "[ ] # In each print statement, use the correct assignment operator to achieve the desired result, without creating any new variables.\n",
        "\n",
        "# Print 13 using the assignment addition operator\n",
        "int_1 = 7\n",
        "\n",
        "print(int_1 += 6)\n",
        "\n",
        "# Print 16 using the assignment subtraction operator\n",
        "int_2 = 21\n",
        "\n",
        "print(int_2 - 5)\n",
        "\n",
        "# Print 88 using the assignment multiplication operator\n",
        "int_3 = 11\n",
        "\n",
        "print()\n",
        "\n",
        "# Print 3 using the assignment floor division operator\n",
        "int_4 = 10\n",
        "\n",
        "print()\n",
        "\n",
        "# Print 4.0 using the assignment division operator\n",
        "int_5 = 16\n",
        "\n",
        "print()\n",
        "\n",
        "# Print 27 using the assignment exponential operator\n",
        "int_6 = 3\n",
        "\n",
        "print()\n",
        "\n",
        "# Print 2 using the assignment modulus operator\n",
        "int_7 = 14\n",
        "\n",
        "print()"
      ]
    },
    {
      "cell_type": "markdown",
      "metadata": {
        "id": "9eru0BbnSTua"
      },
      "source": [
        "Practice Problem 2.2 - Comparison Operators\n",
        "---\n",
        "Use the nessecary comparison operator so each print statement outputs True."
      ]
    },
    {
      "cell_type": "code",
      "execution_count": null,
      "metadata": {
        "id": "xCA77cL3SlLY"
      },
      "outputs": [],
      "source": [
        "[ ] # Use the correct comparison operator to have each statement print True, without creating any new variables.\n",
        "\n",
        "var_1 = 7\n",
        "var_2 = 7.0\n",
        "\n",
        "print(var_1  var_2)\n",
        "\n",
        "var_3 = 10.0\n",
        "var_4 = 21\n",
        "\n",
        "print(var_3  var_4)\n",
        "\n",
        "var_5 = 11\n",
        "var_6 = 11.5\n",
        "\n",
        "print(var_5  var_6)\n",
        "\n",
        "var_7 = \"A\"\n",
        "var_8 = \"B\"\n",
        "\n",
        "print(var_7  var_8)"
      ]
    },
    {
      "cell_type": "markdown",
      "metadata": {
        "id": "IjFPvC1IXdfU"
      },
      "source": [
        "Practice Problem 2.3 - Logical Operators\n",
        "---\n",
        "Use the nessecary logical operator so each print statement outputs True."
      ]
    },
    {
      "cell_type": "code",
      "execution_count": null,
      "metadata": {
        "id": "FcvsfuEIXjnT"
      },
      "outputs": [],
      "source": [
        "[ ] # Use the correct logical operator to have each statement print True, without creating any new variables.\n",
        "\n",
        "var_1 = 12\n",
        "var_2 = 27\n",
        "var_3 = 10\n",
        "\n",
        "print(var_1 > var_2  var_2 > var_3)\n",
        "\n",
        "print(var_1 == var_3  var_2 <= var_1)\n",
        "\n",
        "print(var_1 > var_2)"
      ]
    },
    {
      "cell_type": "markdown",
      "metadata": {
        "id": "aoCOZ1PKYsrf"
      },
      "source": [
        "Practice Problem 2.4 - Bitwise Operators\n",
        "---\n",
        "Use the nessecary bitwise operator to achieve the intended result."
      ]
    },
    {
      "cell_type": "code",
      "execution_count": null,
      "metadata": {
        "id": "_BCuCP31bD8w"
      },
      "outputs": [],
      "source": [
        "[ ] # In each print statement, use the correct bitwise operator to achieve the desired result, without creating any new variables.\n",
        "\n",
        "# var_1 = 12\n",
        "var_1 = 0b0001100\n",
        "\n",
        "# var_2 = 39\n",
        "var_2 = 0b0010111\n",
        "\n",
        "# Print 0b0000100, (4)\n",
        "print(var_1  var_2)\n",
        "\n",
        "# Print 0b0011111, (31)\n",
        "print(var_1  var_2)\n",
        "\n",
        "# Print 0b0011011 (27)\n",
        "print(var_1  var_2)"
      ]
    },
    {
      "cell_type": "markdown",
      "metadata": {
        "id": "iK7JImZBejYy"
      },
      "source": [
        "Practice Problem 2.4 - Bitwise Assignment Operators\n",
        "---\n",
        "Use the nessecary bitwise assignment operator to achieve the intended result."
      ]
    },
    {
      "cell_type": "code",
      "execution_count": null,
      "metadata": {
        "id": "NL62jeEggHEP"
      },
      "outputs": [],
      "source": [
        "[ ] # Above each print statement, use the correct bitwise assignment operator to change var_1 to the desired result, without creating any new variables.\n",
        "\n",
        "var_1 = 0b0001100\n",
        "\n",
        "# Print 0b0000100 (4)\n",
        "\n",
        "var_1  0b0000100\n",
        "\n",
        "print(var_1)\n",
        "\n",
        "# Print 0b0011101 (29)\n",
        "\n",
        "var_1  0b0011001\n",
        "\n",
        "print(var_1)\n",
        "\n",
        "# Print 0b0010100 (20)\n",
        "\n",
        "var_1  0b0001001\n",
        "\n",
        "print(var_1)\n",
        "\n",
        "# Print 0b0000101 (5)\n",
        "\n",
        "var_1  2\n",
        "\n",
        "print(var_1)"
      ]
    },
    {
      "cell_type": "markdown",
      "metadata": {
        "id": "rRmHw7S3P6eG"
      },
      "source": [
        "Practice Problem 2.5 - Identity Operators\n",
        "---\n",
        "Use the nessecary identity operator so that each print statement returns True."
      ]
    },
    {
      "cell_type": "code",
      "execution_count": null,
      "metadata": {
        "id": "4-VvrkL1S5Lv"
      },
      "outputs": [],
      "source": [
        "[ ] # In each print statement, use the correct identity operator to have each statement print True, without creating any new variables.\n",
        "\n",
        "var_1 = \"Hello World!\"\n",
        "var_2 = \"Hello World!\"\n",
        "var_3 = var_1\n",
        "\n",
        "print(var_1  var_3)\n",
        "print(var_1  var_2)"
      ]
    },
    {
      "cell_type": "markdown",
      "metadata": {
        "id": "3I4s7s2qYnZk"
      },
      "source": [
        "Practice Problem 2.6 - Membership Operators\n",
        "---\n",
        "Use the nessecary membership operator so that each print statement returns True."
      ]
    },
    {
      "cell_type": "code",
      "execution_count": null,
      "metadata": {
        "id": "_9kCvLF2Y-Ll"
      },
      "outputs": [],
      "source": [
        "[ ] # In each print statement, use the correct membership operator to have each statement print True, without creating any new variables.\n",
        "\n",
        "var_1 = \"Hello World!\"\n",
        "var_2 = [1, 2, 3, 4, 5]\n",
        "\n",
        "print(\"World!\"  var_1)\n",
        "print(3  var_2)"
      ]
    },
    {
      "cell_type": "markdown",
      "metadata": {
        "id": "WRd1ypu7aYbm"
      },
      "source": [
        "Practice Problem 2.7 - Membership Operators\n",
        "---\n",
        "Place the operators in the correct order."
      ]
    },
    {
      "cell_type": "code",
      "execution_count": null,
      "metadata": {
        "id": "ZJoFqM5qcVOv"
      },
      "outputs": [],
      "source": [
        "[ ] # For each of the statements below, in the parantheses, write the number 1-10, 1 (first) to 10 (last).\n",
        "\n",
        "# () Exponentiation: **\n",
        "# () Identity: is, is not\n",
        "# () Membership: in, not in\n",
        "# () Parantheses: ()\n",
        "# () Unary: +x, -x, ~x\n",
        "# () Logical: not, and, or\n",
        "# () Comparison: ==, !=, >, >=, <, <=\n",
        "# () Arithmetic: *, /, %, //, +, -\n",
        "# () Bitwise: <<, >>, &, ^, |"
      ]
    },
    {
      "cell_type": "markdown",
      "metadata": {
        "id": "2Qus8EnUdiBr"
      },
      "source": [
        "Practice Problem 3.1 - Lists\n",
        "---\n",
        "Comment out the following lines that incorrectly declare lists."
      ]
    },
    {
      "cell_type": "code",
      "execution_count": null,
      "metadata": {
        "id": "mp3I74nLdhmn"
      },
      "outputs": [],
      "source": [
        "[ ] # Comment out the lines that do not declare lists.\n",
        "\n",
        "car_companies = [\"Audi\", \"Volkswagen\", \"Ford\"]\n",
        "values = 1, 4, 18, 23\n",
        "shopping_list = list()\n",
        "_months = [\"January\", \"February\", 3, \"April\", 5, \"June\", 7, \"August\", 10, \"December\"]\n",
        "numList = list((1, 14, 12, 18, 92))\n",
        "BOOLLIST = (True, False, True, False)"
      ]
    },
    {
      "cell_type": "markdown",
      "metadata": {
        "id": "zq4FBICDgruw"
      },
      "source": [
        "Practice Problem 3.1 - Lists\n",
        "---\n",
        "Use indexing or slicing to get the specified range of elements from the list that's required."
      ]
    },
    {
      "cell_type": "code",
      "execution_count": null,
      "metadata": {
        "id": "3Um-GElhhYvY"
      },
      "outputs": [],
      "source": [
        "[ ] # Use indexing or slicing to get the desired element(s) from the list.\n",
        "\n",
        "myList = [\"Europe\", \"Asia\", \"North America\", 2009, 2140, 12.5, 6.25, [1, 2, 3, 4, 5]]\n",
        "\n",
        "# Print \"North America\" from myList.\n",
        "\n",
        "print()\n",
        "\n",
        "# Print 2140 from myList.\n",
        "\n",
        "print()\n",
        "\n",
        "# Use a negative index to retrieve the list, \"[1, 2, 3, 4, 5]\".\n",
        "\n",
        "print()\n",
        "\n",
        "# Create a new list variable and use slicing to print the following statement: \"[\"Europe\", \"Asia\", \"North America\"]\".\n",
        "\n",
        "\n",
        "print()"
      ]
    },
    {
      "cell_type": "markdown",
      "metadata": {
        "id": "vrIK2QpGrqtD"
      },
      "source": [
        "Practice Problem 3.1 - Lists\n",
        "---\n",
        "For each statement, determine the nessecary method to use."
      ]
    },
    {
      "cell_type": "code",
      "execution_count": null,
      "metadata": {
        "id": "ijCNJDYxj9DY"
      },
      "outputs": [],
      "source": [
        "[ ] # Use the specified method for each statement.\n",
        "\n",
        "myList = [0, 1, 1, 2, 3, 5, 8, 13, 21, 34, 55, 89]\n",
        "\n",
        "# Use the method that provides the length of the list and print it.\n",
        "\n",
        "print(len(myList))\n",
        "\n",
        "# Use the method that adds the value, 144, to the end of the list.\n",
        "\n",
        "myList\n",
        "\n",
        "# Use the method that removes a specified element from the list, and remove the element 21.\n",
        "\n",
        "myList\n",
        "\n",
        "# Use the method that removes all the elements from the list\n",
        "\n",
        "myList"
      ]
    },
    {
      "cell_type": "markdown",
      "metadata": {
        "id": "3bRW__GrscKI"
      },
      "source": [
        "Practice Problem 3.1 - Lists\n",
        "---\n",
        "Determine which operation to implement to achieve the desired result."
      ]
    },
    {
      "cell_type": "code",
      "execution_count": null,
      "metadata": {
        "id": "q3mt_rLSsjmY"
      },
      "outputs": [],
      "source": [
        "[ ] # Use the specified method for each statement.\n",
        "\n",
        "oddNumList = [1, 3, 5, 7, 9]\n",
        "evenNumList = [2, 4, 6, 8, 10]\n",
        "\n",
        "# Create a new list that joins the two lists, then print it\n",
        "\n",
        "print()\n",
        "\n",
        "# Print the evenNumList, three times, with only one print function\n",
        "\n",
        "print()\n",
        "\n",
        "# Delete the oddNumList\n",
        "\n"
      ]
    },
    {
      "cell_type": "markdown",
      "metadata": {
        "id": "UBW8idLctEM4"
      },
      "source": [
        "Practice Problem 3.2 - Tuples\n",
        "---\n",
        "Comment out the following lines that incorrectly declare tuples."
      ]
    },
    {
      "cell_type": "code",
      "execution_count": null,
      "metadata": {
        "id": "_Z-bztNntTpB"
      },
      "outputs": [],
      "source": [
        "[ ] # Comment out the lines that do not declare tuples.\n",
        "\n",
        "car_companies = (\"Audi\", \"Volkswagen\", \"Ford\")\n",
        "values = 1, 4, 18, 23\n",
        "shopping_list = (\"Eggs\")\n",
        "_months = (\"January\", \"February\", 3, \"April\", 5, \"June\", 7, \"August\", 10, \"December\")\n",
        "numList = tuple([1, 14, 12, 18, 92])\n",
        "BOOLLIST = {True, False, True, False}"
      ]
    },
    {
      "cell_type": "markdown",
      "metadata": {
        "id": "NX-ARR9etyAD"
      },
      "source": [
        "Practice Problem 3.2 - Tuples\n",
        "---\n",
        "Use indexing or slicing to get the specified range of elements from the tuple that's required."
      ]
    },
    {
      "cell_type": "code",
      "execution_count": null,
      "metadata": {
        "id": "qLzIXoW4t-ta"
      },
      "outputs": [],
      "source": [
        "[ ] # Use indexing or slicing to get the desired element(s) from the tuple.\n",
        "\n",
        "myTuple = (\"Louisiana\", \"Texas\", \"Alabama\", 1976, 2240, 10.5, 6.75, (1, 2, 3, 4, 5))\n",
        "\n",
        "# Print \"Louisiana\" from myList.\n",
        "\n",
        "print()\n",
        "\n",
        "# Print 2240 from myList.\n",
        "\n",
        "print()\n",
        "\n",
        "# Use a negative index to retrieve the tuple, \"(1, 2, 3, 4, 5)\".\n",
        "\n",
        "print()\n",
        "\n",
        "# Use slicing to print the following statement: \"(1976, 2240, 10.5, 6.75)\".\n",
        "\n",
        "\n",
        "print()"
      ]
    },
    {
      "cell_type": "markdown",
      "metadata": {
        "id": "OvreEej9uvsT"
      },
      "source": [
        "Practice Problem 3.2 - Tuples\n",
        "---\n",
        "For each statement, determine the nessecary method to use."
      ]
    },
    {
      "cell_type": "code",
      "execution_count": null,
      "metadata": {
        "id": "GGgQuhthuyDr"
      },
      "outputs": [],
      "source": [
        "[ ] # Use the specified method for each statement.\n",
        "\n",
        "myTuple = (2, 2, 5, 5, 5, 11, 11, 11, 11, 23, 47, 85)\n",
        "\n",
        "# Use the method that returns the number of times 11 was repeated in myTuple\n",
        "\n",
        "print(myTuple )\n",
        "\n",
        "# Use the method that returns the index of 47\n",
        "\n",
        "print(myTuple )\n",
        "\n",
        "\n",
        "myUnsortedTuple = (11, 3, 5, 2, 5, 47, 13, 15, 89, 46, 62, 85)\n",
        "\n",
        "# Print myUnsortedTuple, sorted\n",
        "\n",
        "print(myUnsortedTuple)\n"
      ]
    },
    {
      "cell_type": "markdown",
      "metadata": {
        "id": "WSiMyHkMvwJd"
      },
      "source": [
        "Practice Problem 3.2 - Tuples\n",
        "---\n",
        "Determine which operation to implement to achieve the desired result."
      ]
    },
    {
      "cell_type": "code",
      "execution_count": null,
      "metadata": {
        "id": "x-5pxrRzwICS"
      },
      "outputs": [],
      "source": [
        "[ ] # Use the specified operation for each statement.\n",
        "\n",
        "oddNumTuple = (1, 3, 5, 7, 9)\n",
        "evenNumTuple = (2, 4, 6, 8, 10)\n",
        "\n",
        "# Create a new tuple that joins the two tuples, then print it\n",
        "\n",
        "print()\n",
        "\n",
        "# Print the evenNumTuple, three times, with only one print function\n",
        "\n",
        "print()\n",
        "\n",
        "# Delete the oddNumTuple\n",
        "\n"
      ]
    },
    {
      "cell_type": "markdown",
      "metadata": {
        "id": "-1qJGBke70UM"
      },
      "source": [
        "Practice Problem 3.3 - Dictionaries\n",
        "---\n",
        "Comment out the following lines that incorrectly declare dictionaries."
      ]
    },
    {
      "cell_type": "code",
      "execution_count": null,
      "metadata": {
        "colab": {
          "base_uri": "https://localhost:8080/"
        },
        "id": "HVrxyG9e75Iq",
        "outputId": "629cd3e3-2371-4494-90e2-a3998f281c15"
      },
      "outputs": [
        {
          "name": "stdout",
          "output_type": "stream",
          "text": [
            "<class 'dict'>\n"
          ]
        }
      ],
      "source": [
        "[ ] # Comment out the lines that do not declare dictionaries.\n",
        "\n",
        "cars = {\"Ford\": \"Mustang\"}\n",
        "values = {1, 4, 18, 23}\n",
        "shopping_list = {\"Dairy\": 1}\n",
        "_months = {[\"January\", \"February\"]: 2, (\"April\"): 1, [\"June\"]: 7, (\"August\"): 10, (\"December\"): None}\n",
        "numList = dict([1, 14, 12, 18, 92])\n",
        "BOOLLIST = {True: {True: {False: {True: False}}}}"
      ]
    },
    {
      "cell_type": "markdown",
      "metadata": {
        "id": "4nqDiKFSAL46"
      },
      "source": [
        "Practice Problem 3.3 - Dictionaries\n",
        "---\n",
        "Use the keys within the dictionaries to return the desired values."
      ]
    },
    {
      "cell_type": "code",
      "execution_count": null,
      "metadata": {
        "id": "9J7yrZu1A9qb"
      },
      "outputs": [],
      "source": [
        "[ ] # Use the nessecary keys to return the desired values from dictionaries\n",
        "\n",
        "myDict = {\"Planets\": [\"Earth\", \"Mars\", \"Venus\"], \"Numbers\": (1842, 2040, 21, 0.75), \"Values\": {\"new_list\": [1, 2, 3, 4, 5]}}\n",
        "\n",
        "# Print [\"Earth\", \"Mars\", \"Venus\"] from myDict.\n",
        "\n",
        "print()\n",
        "\n",
        "# Print 21 from myDict.\n",
        "\n",
        "print()\n",
        "\n",
        "# Print 2 from myDict\n",
        "\n",
        "print()"
      ]
    },
    {
      "cell_type": "markdown",
      "metadata": {
        "id": "dlPvJ41QEKyL"
      },
      "source": [
        "Practice Problem 3.3 - Dictionaries\n",
        "---\n",
        "For each statement, determine the nessecary method to use."
      ]
    },
    {
      "cell_type": "code",
      "execution_count": null,
      "metadata": {
        "id": "4b9m282HEKFV"
      },
      "outputs": [],
      "source": [
        "[ ] # Use the specified method for each statement.\n",
        "\n",
        "myDict = {\"Nums\": [7, 8, 14, 16, 28, 32], \"String1\": \"Apples\", \"Fish\": (\"Salmon\", \"Tuna\", \"Barracuda\")}\n",
        "\n",
        "# Use the method that returns a list of the keys\n",
        "\n",
        "print(myDict )\n",
        "\n",
        "# Use the method that returns a list of key:value pairs\n",
        "\n",
        "print(myDict )\n",
        "\n",
        "# Use the method that removes the last key:value pair from the dictionary\n",
        "\n",
        "print(myDict )"
      ]
    },
    {
      "cell_type": "markdown",
      "metadata": {
        "id": "LEO2uN9eFKfO"
      },
      "source": [
        "Practice Problem 3.3 - Dictionaries\n",
        "---\n",
        "Determine which operation to implement to achieve the desired result."
      ]
    },
    {
      "cell_type": "code",
      "execution_count": null,
      "metadata": {
        "id": "5xTSYLoNFQDF"
      },
      "outputs": [],
      "source": [
        "[ ] # Use the specified operation for each statement.\n",
        "\n",
        "numDict = {\"Odd Numbers\": [1, 3, 5, 7, 9], \"Even Numbers\": [2, 4, 6, 8, 10]}\n",
        "\n",
        "# Delete the \"Odd Numbers\" item from numDict\n",
        "\n",
        "\n",
        "# Delete numDict\n",
        "\n"
      ]
    },
    {
      "cell_type": "markdown",
      "metadata": {
        "id": "m4W2cuwYBN3Q"
      },
      "source": [
        "Practice Problem 3.4 - Sets\n",
        "---\n",
        "Comment out the following lines that incorrectly declare sets."
      ]
    },
    {
      "cell_type": "code",
      "execution_count": null,
      "metadata": {
        "id": "jU8YflzRBVEs"
      },
      "outputs": [],
      "source": [
        "[ ] # Comment out the lines that do not declare sets.\n",
        "\n",
        "cars = {\"Ford\", \"Audi\"}\n",
        "values = {1, 4, 18, 23}\n",
        "shopping_list = {\"Dairy\", 1, False}\n",
        "_months = {[\"January\", \"February\"]: 2, (\"April\"): 1, [\"June\"]: 7, (\"August\"): 10, (\"December\"): None}\n",
        "numList = set((1, 14, 12, 18, 92))\n",
        "BOOLSET = {True, True, False, True, False}"
      ]
    },
    {
      "cell_type": "markdown",
      "metadata": {
        "id": "Vw7h6FEyGdLJ"
      },
      "source": [
        "Practice Problem 3.4 - Sets\n",
        "---\n",
        "For each statement, determine the nessecary method to use."
      ]
    },
    {
      "cell_type": "code",
      "execution_count": null,
      "metadata": {
        "id": "a9QD_wPVGgjY"
      },
      "outputs": [],
      "source": [
        "[ ] # Use the specified method for each statement.\n",
        "\n",
        "mySet = {\"Ford\", \"Buick\", \"Mercedes\", \"Honda\"}\n",
        "myOtherSet = {\"Ford\", \"Volkswagen\", \"Audi\", \"Honda\"}\n",
        "\n",
        "# Use the method that adds the item, \"Kia\" to mySet\n",
        "\n",
        "print(mySet )\n",
        "\n",
        "# Use the method that removes the item, \"Buick\" from mySet\n",
        "\n",
        "print(mySet )\n",
        "\n",
        "# Use the method that randomly removes an item from mySet\n",
        "\n",
        "print(mySet )\n",
        "\n",
        "# Use the method that updates mySet with myOtherSet\n",
        "\n",
        "print(mySet )\n",
        "\n",
        "# Use the method that only keeps duplicate elements from both mySet and myOtherSet\n",
        "\n",
        "print(mySet )\n",
        "\n",
        "# Use the method that clears mySet\n",
        "\n",
        "print(mySet )"
      ]
    },
    {
      "cell_type": "markdown",
      "metadata": {
        "id": "Ew8XK66FIW7Q"
      },
      "source": [
        "Practice Problem 3.4 - Sets\n",
        "---\n",
        "Determine which operation to implement to achieve the desired result."
      ]
    },
    {
      "cell_type": "code",
      "execution_count": null,
      "metadata": {
        "id": "R6QAnJwcJWZl"
      },
      "outputs": [],
      "source": [
        "[ ] # Use the specified operation for each statement.\n",
        "\n",
        "numSet = {1, 2, 3, 4, 5, 6, 7, 8, 9, 10}\n",
        "\n",
        "# Print the length of numSet\n",
        "\n",
        "print(numSet )\n",
        "\n",
        "# Delete numSet\n"
      ]
    },
    {
      "cell_type": "markdown",
      "metadata": {
        "id": "3ba9PknPKxmt"
      },
      "source": [
        "Practice Problem 4.1 - If statements\n",
        "---\n",
        "Comment out the following lines that incorrectly declare if else statements"
      ]
    },
    {
      "cell_type": "code",
      "execution_count": null,
      "metadata": {
        "id": "b-KqFvzvLmOo"
      },
      "outputs": [],
      "source": [
        "[ ] # Comment out the lines that do not correctly declare if else statements.\n",
        "\n",
        "if True:\n",
        "  print()\n",
        "\n",
        "\n",
        "if True: print() else: print()\n",
        "\n",
        "\n",
        "if 1 :\n",
        "\n",
        "      print()\n",
        "\n",
        "else :\n",
        "\n",
        "      print()\n",
        "\n",
        "\n",
        "if not (0) print()\n",
        "else print()"
      ]
    },
    {
      "cell_type": "markdown",
      "metadata": {
        "id": "tqJf9qAsTcFq"
      },
      "source": [
        "Practice Problem 4.1 - If statements\n",
        "---\n",
        "Use the correct arithmetic, comparison or logical operator so that each if statement runs the code within."
      ]
    },
    {
      "cell_type": "code",
      "execution_count": null,
      "metadata": {
        "id": "5jbnryJSTmTx"
      },
      "outputs": [],
      "source": [
        "[ ] # Use the nessecary operator so as to have each if statment print \"runs!\", without changing the condition of the if statement\n",
        "\n",
        "var_1 = 10\n",
        "var_2 = 15\n",
        "var_3 = 25\n",
        "\n",
        "if(var_1  var_3 - var_2):\n",
        "  print(\"runs!\")\n",
        "\n",
        "if(var_1  var_3):\n",
        "  print(\"runs!\")\n",
        "\n",
        "if(var_1 % 5 == 0  var_2 % 5 == 0):\n",
        "  print(\"runs!\")\n",
        "\n",
        "if(var_1  var_):\n",
        "  print(\"runs!\")"
      ]
    },
    {
      "cell_type": "markdown",
      "metadata": {
        "id": "3JhyTx9LXAAz"
      },
      "source": [
        "Practice Problem 4.2 - For loops\n",
        "---\n",
        "Comment out the following lines that incorrectly declare for loops"
      ]
    },
    {
      "cell_type": "code",
      "execution_count": null,
      "metadata": {
        "id": "HGC0ldfMXLlY"
      },
      "outputs": [],
      "source": [
        "[ ] # Comment out the lines that do not correctly declare for loops.\n",
        "\n",
        "for i in range(10):\n",
        "  print()\n",
        "\n",
        "\n",
        "myList = [1, 2, 3, 4, 5]\n",
        "\n",
        "for myList:\n",
        "  print()\n",
        "\n",
        "\n",
        "for num in range(10): print(num)\n",
        "\n",
        "\n",
        "for char \"Hello\":\n",
        "  print(char)"
      ]
    },
    {
      "cell_type": "markdown",
      "metadata": {
        "id": "yweutw0YYTqn"
      },
      "source": [
        "Practice Problem 4.2 - For loops\n",
        "---\n",
        "Create for loops that iterate over each data sequence."
      ]
    },
    {
      "cell_type": "code",
      "execution_count": null,
      "metadata": {
        "id": "sbomVPoEYiJ6"
      },
      "outputs": [],
      "source": [
        "[ ] # Create for loops that successfully iterate over each sequence.\n",
        "\n",
        "myString = \"Success!\"\n",
        "\n",
        "# Print each charater of myString\n",
        "\n",
        "\n",
        "myTuple = (1, 2, 3, 4, 5)\n",
        "\n",
        "# Print each integer within myTuple\n",
        "\n",
        "\n",
        "myList = (0, 1, 1, 2, 3, 5, 8)\n",
        "\n",
        "# Print each integer within myList\n",
        "\n",
        "\n",
        "myDict = {\"pi\": 3.141, \"phi\": 1.618, \"e\": 2.718}\n",
        "\n",
        "# Print each key within myDict\n",
        "\n",
        "\n",
        "#Print each value within myDict\n",
        "\n",
        "\n",
        "# Print each key:value pair within myDict"
      ]
    },
    {
      "cell_type": "markdown",
      "metadata": {
        "id": "Ypkydbt3jkNh"
      },
      "source": [
        "Practice Problem 4.2 - While loops\n",
        "---\n",
        "Comment out the following lines that incorrectly declare while loops."
      ]
    },
    {
      "cell_type": "code",
      "execution_count": null,
      "metadata": {
        "id": "0DOGTTDzkHlD"
      },
      "outputs": [],
      "source": [
        "[ ] # Comment out the lines that do not correctly declare while loops.\n",
        "\n",
        "while 1:\n",
        "  print()\n",
        "\n",
        "\n",
        "while True print()\n",
        "\n",
        "\n",
        "num = 0;\n",
        "\n",
        "while\n",
        "num < 10:\n",
        "  print()\n",
        "  num += 1\n",
        "\n",
        "\n",
        "bool_val = True;\n",
        "\n",
        "while bool_val:\n",
        "  print()\n",
        "  bool_val = False"
      ]
    },
    {
      "cell_type": "markdown",
      "metadata": {
        "id": "bC0u73Oor8y_"
      },
      "source": [
        "Practice Problem 5.1 - User-defined functions\n",
        "---\n",
        "Comment out the following lines that incorrectly declare functions."
      ]
    },
    {
      "cell_type": "code",
      "execution_count": null,
      "metadata": {
        "id": "RvwGs3fXs5Qt"
      },
      "outputs": [],
      "source": [
        "[ ] # Comment out the lines that do not correctly declare functions.\n",
        "\n",
        "my_function():\n",
        "  print()\n",
        "\n",
        "\n",
        "def my_function():\n",
        "  print()\n",
        "\n",
        "\n",
        "def count(): print(1, 2, 3, 4, 5)\n",
        "\n",
        "\n",
        "def count:\n",
        "  print(1, 2, 3, 4, 5)"
      ]
    },
    {
      "cell_type": "markdown",
      "metadata": {
        "id": "8-4ibCIstdm5"
      },
      "source": [
        "Practice Problem 5.1 - User-defined functions\n",
        "---\n",
        "Create the specified return statements for each given function\n",
        "\n"
      ]
    },
    {
      "cell_type": "code",
      "execution_count": null,
      "metadata": {
        "id": "GO5IwRnqtwAj"
      },
      "outputs": [],
      "source": [
        "[ ] # Write the missing return statements for each function definition\n",
        "\n",
        "x = 0\n",
        "\n",
        "# The increment function should return x + 1\n",
        "def Increment():\n",
        "  return\n",
        "\n",
        "\n",
        "i = 15\n",
        "j = 19\n",
        "\n",
        "# The IsGreater function should true if i is greater than j and false if it is less\n",
        "def IsGreater():\n",
        "  return\n",
        "\n",
        "\n",
        "num = 67123\n",
        "\n",
        "# The IsEven function should return true if num is even and false if it is odd\n",
        "def IsEven():\n",
        "  return"
      ]
    },
    {
      "cell_type": "markdown",
      "metadata": {
        "id": "WChmR9clzyfY"
      },
      "source": [
        "Practice Problem 5.2 - Global and Local variables\n",
        "---\n",
        "Determine whether the specified variable is global or local\n"
      ]
    },
    {
      "cell_type": "code",
      "execution_count": null,
      "metadata": {
        "id": "4zMv12cuz-9y"
      },
      "outputs": [],
      "source": [
        "[ ] # Write out \"global\" or \"local\" for each specified variable\n",
        "\n",
        "num = 5\n",
        "def Increment():\n",
        "  interval = 3\n",
        "  return num + interval\n",
        "\n",
        "# num is a  variable\n",
        "# interval is a  variable\n",
        "\n",
        "\n",
        "var_1 = 14\n",
        "var_2 = 18\n",
        "\n",
        "def IsGreater():\n",
        "  return var_1 > var_2\n",
        "\n",
        "# var_1 is a  variable\n",
        "# var_2 is a  variable\n",
        "\n",
        "\n",
        "def CombineStrings():\n",
        "  string_1 = \"Hello\"\n",
        "  string_2 = \"World\"\n",
        "  return string_1 + string_2\n",
        "\n",
        "# string_1 is a  variable\n",
        "# string_2 is a  variable"
      ]
    },
    {
      "cell_type": "markdown",
      "metadata": {
        "id": "tl0rtq1ZSBuv"
      },
      "source": [
        "Practice Problem 5.3 - Parameters vs arguments\n",
        "---\n",
        "Determine whether the specified arguments are \"keyword\" or \"positional\"\n"
      ]
    },
    {
      "cell_type": "code",
      "execution_count": null,
      "metadata": {
        "id": "nX2GZnDPWYxj"
      },
      "outputs": [],
      "source": [
        "[ ] # Write out \"keyword\" or \"positional\" for each specified argument\n",
        "\n",
        "def IsEven(num):\n",
        "  return num % 2 == 0\n",
        "\n",
        "# num is a  argument\n",
        "\n",
        "IsEven(6)\n",
        "\n",
        "\n",
        "def IsEqual(var_2 = 6, var_1 = 5):\n",
        "  return var_1 == var_2\n",
        "\n",
        "# var_1 is a  argument\n",
        "# var_2 is a  argument\n",
        "\n",
        "IsEqual(var_1 = 6)\n",
        "\n",
        "\n",
        "def MultiplyString(string_1, num = 3):\n",
        "  return string_1 * num\n",
        "\n",
        "# string_1 is a  argument\n",
        "# num is a  argument\n",
        "\n",
        "MultiplyString(\"Hello\")"
      ]
    },
    {
      "cell_type": "markdown",
      "metadata": {
        "id": "9jlYLsEdZkSF"
      },
      "source": [
        "Practice Problem 5.4 - Recursion\n",
        "---\n",
        "Complete the recursive function so it operates as intended\n"
      ]
    },
    {
      "cell_type": "code",
      "execution_count": null,
      "metadata": {
        "id": "z7ze8JLLaO8w"
      },
      "outputs": [],
      "source": [
        "[ ] # Fill in the missing pieces of code to make the RecursiveFunction operate as intended\n",
        "\n",
        "# The RecursiveFunction should check to see if num is equal to one, else it returns num plus RecursiveFunction(num - 1)\n",
        "def RecursiveFunction(num):\n",
        "  if():\n",
        "    return 1\n",
        "  else:\n",
        "    return\n",
        "\n",
        "\n"
      ]
    },
    {
      "cell_type": "markdown",
      "metadata": {
        "id": "KSjq13acaWsx"
      },
      "source": [
        "Practice Problem 5.5 - Lambda Functions\n",
        "---\n",
        "Write a simple lambda function that returns the multiple of two given arguments"
      ]
    },
    {
      "cell_type": "code",
      "execution_count": null,
      "metadata": {
        "id": "FxCLN1zva1uW"
      },
      "outputs": [],
      "source": [
        "[ ] # Create and test a simple lambda function that returns the multiple of var_1 and var_2\n",
        "\n",
        "\n",
        "var_1 = 10\n",
        "var_2 = 5\n",
        "\n",
        "lambdaFunction =\n",
        "print(lambdaFunction(var_1, var_2))"
      ]
    },
    {
      "cell_type": "markdown",
      "metadata": {
        "id": "yt7KK7uvcNfx"
      },
      "source": [
        "Practice Problem 5.6 - Function annotations\n",
        "---\n",
        "For each given function, determine it's return data type."
      ]
    },
    {
      "cell_type": "code",
      "execution_count": null,
      "metadata": {
        "id": "XOSlatxehNP0"
      },
      "outputs": [],
      "source": [
        "[ ] # Comment out the lines that do not correctly import modules.\n",
        "\n",
        "def TellTime(time) -> None:\n",
        "  print()\n",
        "\n",
        "# The TellTime function returns a datatype of\n",
        "\n",
        "def Flying(num) -> bool:\n",
        "  print()\n",
        "\n",
        "# The Flying function returns a datatype of\n",
        "\n",
        "def Holidays() -> dict[str: list[int:int]]:\n",
        "  print()\n",
        "\n",
        "# The Holidays function returns a datatype of"
      ]
    },
    {
      "cell_type": "markdown",
      "metadata": {
        "id": "5W-K9PLLcg24"
      },
      "source": [
        "Practice Problem 6.1 - Built-in modules\n",
        "---\n",
        "For each of the given modules, use a single function that comes from the module."
      ]
    },
    {
      "cell_type": "code",
      "execution_count": null,
      "metadata": {
        "id": "0qyAl1CTiqd2"
      },
      "outputs": [],
      "source": [
        "[ ] # For each given module, use any method from the module. To search the module's methods, use the dir(\"module_name\")\n",
        "\n",
        "import math\n",
        "\n",
        "math.\n",
        "\n",
        "import sys\n",
        "\n",
        "sys.\n",
        "\n",
        "import random\n",
        "\n",
        "random.\n",
        "\n",
        "import datetime\n",
        "\n",
        "datetime."
      ]
    },
    {
      "cell_type": "markdown",
      "metadata": {
        "id": "bYT3DHxxcxQA"
      },
      "source": [
        "Practice Problem 6.2 - User defined modules\n",
        "---\n",
        "Given an example module, saved as exampleModule.py, use the variables and methods by first importing exampleModule"
      ]
    },
    {
      "cell_type": "code",
      "execution_count": null,
      "metadata": {
        "id": "psXOp10xm8h8"
      },
      "outputs": [],
      "source": [
        "[ ] # Given an example user defined module, import it and use the variables and methods within\n",
        "\n",
        "# This file is saved as exampleModule.py\n",
        "\n",
        "# module_var = True\n",
        "# def ChangeVar():\n",
        "#   module_var = !module_var\n",
        "\n",
        "# Import the module, call module_var, run ChangeVar() and call module_var once more\n",
        "\n"
      ]
    },
    {
      "cell_type": "markdown",
      "metadata": {
        "id": "2HTvuOEOdwBf"
      },
      "source": [
        "Practice Problem 6.3 - Importing modules\n",
        "---\n",
        "Comment out the following lines that incorrectly import modules"
      ]
    },
    {
      "cell_type": "code",
      "execution_count": null,
      "metadata": {
        "id": "02dTwj8Cd7Gk"
      },
      "outputs": [],
      "source": [
        "[ ] # Comment out the lines that do not correctly import modules.\n",
        "\n",
        "import time\n",
        "\n",
        "from math import\n",
        "\n",
        "import sys * as system\n",
        "\n",
        "from random import *\n",
        "\n",
        "import datetime as dtime"
      ]
    },
    {
      "cell_type": "markdown",
      "metadata": {
        "id": "f3_GI7lXexPv"
      },
      "source": [
        "Practice Problem 6.4 - Plotting module\n",
        "---\n",
        "Using the modules matplotlib.pyplot and numpy, plot a simple linear function,\n",
        "y = 2x + 4"
      ]
    },
    {
      "cell_type": "code",
      "execution_count": null,
      "metadata": {
        "id": "0lHLWn2z4jEi"
      },
      "outputs": [],
      "source": [
        "[ ] # Import matplotlib and use the functions within the module to plot the function, y = 2x + 4\n",
        "\n",
        "import matplotlib.pyplot as plt\n",
        "import numpy as np\n",
        "\n",
        "x = np.linspace(-10, 10, 400)\n",
        "y = 2*x + 4\n"
      ]
    },
    {
      "cell_type": "markdown",
      "metadata": {
        "id": "IeYINVKDfJTn"
      },
      "source": [
        "Practice Problem 7.1 - Building simple classes\n",
        "---\n",
        "Create a simple class and define a variable within."
      ]
    },
    {
      "cell_type": "code",
      "execution_count": null,
      "metadata": {
        "id": "P2BPxqXqfiSK"
      },
      "outputs": [],
      "source": [
        "[ ] # Create a basic class and create a variable in the class.\n",
        "\n"
      ]
    },
    {
      "cell_type": "markdown",
      "metadata": {
        "id": "MAk2NHtffsvS"
      },
      "source": [
        "Practice Problem 7.2 - Classes and Objects\n",
        "---\n",
        "Expand upon your class by adding a constructor, at least two variables that are initialized by the constructor and a method that uses these variables."
      ]
    },
    {
      "cell_type": "code",
      "execution_count": null,
      "metadata": {
        "id": "UOIzIv-agQ3X"
      },
      "outputs": [],
      "source": [
        "[ ] # Copy and paste your class from above, and add a constructor, two variables that are initialized by the constructor and create a basic method that uses the two variables.\n",
        "    # Then, create an object of your class and run your method.\n",
        "\n"
      ]
    },
    {
      "cell_type": "markdown",
      "metadata": {
        "id": "JtTOfC65ofQy"
      },
      "source": [
        "Practice Problem 7.3 - Encapsulation and abstraction\n",
        "---\n",
        "Expand upon your class by adding two private variables and private method"
      ]
    },
    {
      "cell_type": "code",
      "execution_count": null,
      "metadata": {
        "id": "eLH7OZjB6MER"
      },
      "outputs": [],
      "source": [
        "[ ] # Copy and paste your class from above, and add at least two private variables and a private method.\n",
        "\n"
      ]
    },
    {
      "cell_type": "markdown",
      "metadata": {
        "id": "ktr_T6Eso0Wt"
      },
      "source": [
        "Practice Problem 7.4 - Inheritance\n",
        "---\n",
        "Create an Animal class and a Pet class. Create a few variables and at least one method in the Animal class. Make sure the Pet class inherits from the Animal class. Then use the method created in the Animal class from the Pet class."
      ]
    },
    {
      "cell_type": "code",
      "execution_count": null,
      "metadata": {
        "id": "bt4vrunE__f8"
      },
      "outputs": [],
      "source": [
        "[ ] # Create two classes, an Animal class and a Pet class. Make sure that the Pet class inherits from the Animal class.\n",
        "    # Then create a Sound method within the Animal class that prints a simple sound statement and call the Sound method from the Pet class.\n",
        "\n"
      ]
    },
    {
      "cell_type": "markdown",
      "metadata": {
        "id": "wyievJ_uo3Va"
      },
      "source": [
        "Practice Problem 7.5 - Method overriding\n",
        "---\n",
        "Expand upon your Pet Class by defining a new Sound method that prints a different sound statement than in the Animal class. Then call the Sound method from the Pet class"
      ]
    },
    {
      "cell_type": "code",
      "execution_count": null,
      "metadata": {
        "id": "8MMlZ7cNE-QD"
      },
      "outputs": [],
      "source": [
        "[ ] # Copy and paste your Animal and Pet class from above and create a new Sound method in your Pet class that prints a different sound\n",
        "    # Then call the Sound method from the Pet class\n",
        "\n"
      ]
    },
    {
      "cell_type": "markdown",
      "metadata": {
        "id": "iNQN9VOspEJE"
      },
      "source": [
        "Practice Problem 7.6 - Polymorphism\n",
        "---\n",
        "Expand upon your class by adding a constructor, at least two variables that are initialized by the constructor and a method that uses these variables."
      ]
    },
    {
      "cell_type": "code",
      "execution_count": null,
      "metadata": {
        "id": "msILSLmmGLgB"
      },
      "outputs": [],
      "source": [
        "[ ] # Copy and paste only your Animal class and create two new classes, a Dog class and a Cat class.\n",
        "    # Create Sound methods for both the Dog class and Cat class. Then create an object of both and call the Sound method for each\n"
      ]
    },
    {
      "cell_type": "markdown",
      "metadata": {
        "id": "R4ReRQok0Bfr"
      },
      "source": [
        "Practice Problem 8 - Exceptions\n",
        "---\n",
        "\n",
        "Create a try catch statement, that will divide 60 by each number in numList"
      ]
    },
    {
      "cell_type": "code",
      "execution_count": null,
      "metadata": {
        "id": "nLz_Sb7Q0MfW"
      },
      "outputs": [],
      "source": [
        "[ ] # Create and use a try catch statement that tries to divide 60 by each integer in numList\n",
        "\n",
        "numList = [2, 4, 5, 6, 10, 12, 0]\n",
        "\n",
        "for i in numList:\n"
      ]
    }
  ],
  "metadata": {
    "colab": {
      "include_colab_link": true,
      "provenance": []
    },
    "kernelspec": {
      "display_name": "Python 3",
      "name": "python3"
    },
    "language_info": {
      "codemirror_mode": {
        "name": "ipython",
        "version": 3
      },
      "file_extension": ".py",
      "mimetype": "text/x-python",
      "name": "python",
      "nbconvert_exporter": "python",
      "pygments_lexer": "ipython3",
      "version": "3.11.9"
    }
  },
  "nbformat": 4,
  "nbformat_minor": 0
}
